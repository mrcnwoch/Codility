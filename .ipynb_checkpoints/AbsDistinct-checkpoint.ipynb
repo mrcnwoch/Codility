{
 "cells": [
  {
   "cell_type": "markdown",
   "metadata": {},
   "source": [
    "\n",
    "\n",
    "A non-empty zero-indexed array A consisting of N numbers is given. The array is sorted in non-decreasing order. The absolute distinct count of this array is the number of distinct absolute values among the elements of the array.\n",
    "\n",
    "For example, consider array A such that:\n",
    "  A[0] = -5\n",
    "  A[1] = -3\n",
    "  A[2] = -1\n",
    "  A[3] =  0\n",
    "  A[4] =  3\n",
    "  A[5] =  6\n",
    "\n",
    "The absolute distinct count of this array is 5, because there are 5 distinct absolute values among the elements of this array, namely 0, 1, 3, 5 and 6.\n",
    "\n",
    "Write a function:\n",
    "\n",
    "    def solution(A)\n",
    "\n",
    "that, given a non-empty zero-indexed array A consisting of N numbers, returns absolute distinct count of array A.\n",
    "\n",
    "For example, given array A such that:\n",
    "  A[0] = -5\n",
    "  A[1] = -3\n",
    "  A[2] = -1\n",
    "  A[3] =  0\n",
    "  A[4] =  3\n",
    "  A[5] =  6\n",
    "\n",
    "the function should return 5, as explained above.\n",
    "\n",
    "Assume that:\n",
    "\n",
    "        N is an integer within the range [1..100,000];\n",
    "        each element of array A is an integer within the range [−2,147,483,648..2,147,483,647];\n",
    "        array A is sorted in non-decreasing order.\n",
    "\n",
    "Complexity:\n",
    "\n",
    "        expected worst-case time complexity is O(N);\n",
    "        expected worst-case space complexity is O(N), beyond input storage (not counting the storage required for input arguments).\n",
    "\n",
    "Elements of input arrays can be modified.\n"
   ]
  },
  {
   "cell_type": "code",
   "execution_count": 8,
   "metadata": {},
   "outputs": [],
   "source": [
    "def solution(A):\n",
    "    return len(set([abs(x) for x in A]))"
   ]
  },
  {
   "cell_type": "code",
   "execution_count": 9,
   "metadata": {},
   "outputs": [
    {
     "name": "stdout",
     "output_type": "stream",
     "text": [
      "6\n"
     ]
    }
   ],
   "source": [
    "print solution([-5, -3, -1, 0, 3, 6, 3, 3, 4, 4])"
   ]
  },
  {
   "cell_type": "code",
   "execution_count": null,
   "metadata": {
    "collapsed": true
   },
   "outputs": [],
   "source": []
  }
 ],
 "metadata": {
  "kernelspec": {
   "display_name": "Python 3 (ipykernel)",
   "language": "python",
   "name": "python3"
  },
  "language_info": {
   "codemirror_mode": {
    "name": "ipython",
    "version": 3
   },
   "file_extension": ".py",
   "mimetype": "text/x-python",
   "name": "python",
   "nbconvert_exporter": "python",
   "pygments_lexer": "ipython3",
   "version": "3.9.7"
  }
 },
 "nbformat": 4,
 "nbformat_minor": 1
}
