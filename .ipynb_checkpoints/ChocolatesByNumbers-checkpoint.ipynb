{
 "cells": [
  {
   "cell_type": "markdown",
   "metadata": {},
   "source": [
    "Two positive integers N and M are given. Integer N represents the number of chocolates arranged in a circle, numbered from 0 to N − 1.\n",
    "\n",
    "You start to eat the chocolates. After eating a chocolate you leave only a wrapper.\n",
    "\n",
    "You begin with eating chocolate number 0. Then you omit the next M − 1 chocolates or wrappers on the circle, and eat the following one.\n",
    "\n",
    "More precisely, if you ate chocolate number X, then you will next eat the chocolate with number (X + M) modulo N (remainder of division).\n",
    "\n",
    "You stop eating when you encounter an empty wrapper.\n",
    "\n",
    "For example, given integers N = 10 and M = 4. You will eat the following chocolates: 0, 4, 8, 2, 6.\n",
    "\n",
    "The goal is to count the number of chocolates that you will eat, following the above rules.\n",
    "\n",
    "Write a function:\n",
    "\n",
    "    def solution(N, M)\n",
    "\n",
    "that, given two positive integers N and M, returns the number of chocolates that you will eat.\n",
    "\n",
    "For example, given integers N = 10 and M = 4. the function should return 5, as explained above.\n",
    "\n",
    "Write an efficient algorithm for the following assumptions:\n",
    "\n",
    "        N and M are integers within the range [1..1,000,000,000].\n"
   ]
  },
  {
   "cell_type": "code",
   "execution_count": 1,
   "metadata": {},
   "outputs": [],
   "source": [
    "def solution(N, M):\n",
    "    pass"
   ]
  },
  {
   "cell_type": "code",
   "execution_count": 2,
   "metadata": {},
   "outputs": [],
   "source": [
    "solution(10, 4)"
   ]
  },
  {
   "cell_type": "code",
   "execution_count": null,
   "metadata": {},
   "outputs": [],
   "source": []
  }
 ],
 "metadata": {
  "kernelspec": {
   "display_name": "Python 3 (ipykernel)",
   "language": "python",
   "name": "python3"
  },
  "language_info": {
   "codemirror_mode": {
    "name": "ipython",
    "version": 3
   },
   "file_extension": ".py",
   "mimetype": "text/x-python",
   "name": "python",
   "nbconvert_exporter": "python",
   "pygments_lexer": "ipython3",
   "version": "3.9.7"
  }
 },
 "nbformat": 4,
 "nbformat_minor": 2
}
