{
 "cells": [
  {
   "cell_type": "markdown",
   "metadata": {},
   "source": [
    "\n",
    "\n",
    "An integer M and a non-empty array A consisting of N non-negative integers are given. All integers in array A are less than or equal to M.\n",
    "\n",
    "A pair of integers (P, Q), such that 0 ≤ P ≤ Q < N, is called a slice of array A. The slice consists of the elements A[P], A[P + 1], ..., A[Q]. A distinct slice is a slice consisting of only unique numbers. That is, no individual number occurs more than once in the slice.\n",
    "\n",
    "For example, consider integer M = 6 and array A such that:\n",
    "    A[0] = 3\n",
    "    \n",
    "    A[1] = 4\n",
    "    \n",
    "    A[2] = 5\n",
    "    \n",
    "    A[3] = 5\n",
    "    \n",
    "    A[4] = 2\n",
    "\n",
    "There are exactly nine distinct slices: (0, 0), (0, 1), (0, 2), (1, 1), (1, 2), (2, 2), (3, 3), (3, 4) and (4, 4).\n",
    "\n",
    "The goal is to calculate the number of distinct slices.\n",
    "\n",
    "Write a function:\n",
    "\n",
    "    def solution(M, A)\n",
    "\n",
    "that, given an integer M and a non-empty array A consisting of N integers, returns the number of distinct slices.\n",
    "\n",
    "If the number of distinct slices is greater than 1,000,000,000, the function should return 1,000,000,000.\n",
    "\n",
    "For example, given integer M = 6 and array A such that:\n",
    "    A[0] = 3\n",
    "    \n",
    "    A[1] = 4\n",
    "    \n",
    "    A[2] = 5\n",
    "    \n",
    "    A[3] = 5\n",
    "    \n",
    "    A[4] = 2\n",
    "\n",
    "the function should return 9, as explained above.\n",
    "\n",
    "Write an efficient algorithm for the following assumptions:\n",
    "\n",
    "        N is an integer within the range [1..100,000];\n",
    "        M is an integer within the range [0..100,000];\n",
    "        each element of array A is an integer within the range [0..M].\n",
    "\n"
   ]
  },
  {
   "cell_type": "code",
   "execution_count": 46,
   "metadata": {},
   "outputs": [],
   "source": [
    "def solution(M, A):\n",
    "    front, cnt = 0, 0\n",
    "    \n",
    "    for i in range(len(A)):\n",
    "        tmp = []\n",
    "        \n",
    "        j = i\n",
    "        cont = True\n",
    "        while j < len(A) and cont:\n",
    "            if i == j:\n",
    "                cnt += 1\n",
    "                tmp.append(A[j])\n",
    "            elif tmp[-1] != A[j]:\n",
    "                    cnt += 1\n",
    "                    tmp.append(A[j])\n",
    "            else:\n",
    "                cont = False\n",
    "            j += 1;\n",
    "            \n",
    "    return cnt"
   ]
  },
  {
   "cell_type": "code",
   "execution_count": 47,
   "metadata": {},
   "outputs": [
    {
     "data": {
      "text/plain": [
       "9"
      ]
     },
     "execution_count": 47,
     "metadata": {},
     "output_type": "execute_result"
    }
   ],
   "source": [
    "solution(6, [3, 4, 5, 5, 2])"
   ]
  },
  {
   "cell_type": "code",
   "execution_count": null,
   "metadata": {},
   "outputs": [],
   "source": []
  }
 ],
 "metadata": {
  "kernelspec": {
   "display_name": "Python 3 (ipykernel)",
   "language": "python",
   "name": "python3"
  },
  "language_info": {
   "codemirror_mode": {
    "name": "ipython",
    "version": 3
   },
   "file_extension": ".py",
   "mimetype": "text/x-python",
   "name": "python",
   "nbconvert_exporter": "python",
   "pygments_lexer": "ipython3",
   "version": "3.9.7"
  }
 },
 "nbformat": 4,
 "nbformat_minor": 2
}
