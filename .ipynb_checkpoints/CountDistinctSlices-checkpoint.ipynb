{
 "cells": [
  {
   "cell_type": "markdown",
   "metadata": {},
   "source": []
  },
  {
   "cell_type": "code",
   "execution_count": 46,
   "metadata": {},
   "outputs": [],
   "source": [
    "def solution(M, A):\n",
    "    front, cnt = 0, 0\n",
    "    \n",
    "    for i in range(len(A)):\n",
    "        tmp = []\n",
    "        \n",
    "        j = i\n",
    "        cont = True\n",
    "        while j < len(A) and cont:\n",
    "            if i == j:\n",
    "                cnt += 1\n",
    "                tmp.append(A[j])\n",
    "            elif tmp[-1] != A[j]:\n",
    "                    cnt += 1\n",
    "                    tmp.append(A[j])\n",
    "            else:\n",
    "                cont = False\n",
    "            j += 1;\n",
    "            \n",
    "    return cnt"
   ]
  },
  {
   "cell_type": "code",
   "execution_count": 47,
   "metadata": {},
   "outputs": [
    {
     "data": {
      "text/plain": [
       "9"
      ]
     },
     "execution_count": 47,
     "metadata": {},
     "output_type": "execute_result"
    }
   ],
   "source": [
    "solution(6, [3, 4, 5, 5, 2])"
   ]
  },
  {
   "cell_type": "code",
   "execution_count": null,
   "metadata": {},
   "outputs": [],
   "source": []
  }
 ],
 "metadata": {
  "kernelspec": {
   "display_name": "Python 3 (ipykernel)",
   "language": "python",
   "name": "python3"
  },
  "language_info": {
   "codemirror_mode": {
    "name": "ipython",
    "version": 3
   },
   "file_extension": ".py",
   "mimetype": "text/x-python",
   "name": "python",
   "nbconvert_exporter": "python",
   "pygments_lexer": "ipython3",
   "version": "3.9.7"
  }
 },
 "nbformat": 4,
 "nbformat_minor": 2
}
