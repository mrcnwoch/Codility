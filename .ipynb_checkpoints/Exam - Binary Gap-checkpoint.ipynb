{
 "cells": [
  {
   "cell_type": "markdown",
   "metadata": {},
   "source": []
  },
  {
   "cell_type": "code",
   "execution_count": 22,
   "metadata": {},
   "outputs": [],
   "source": [
    "def solution(N):\n",
    "    bin_repr = bin(N)[2:]\n",
    "    best_solution = 0\n",
    "    curr_solution = 0\n",
    "    \n",
    "    for symbol in bin_repr:\n",
    "        if symbol == '1':\n",
    "            if best_solution < curr_solution:\n",
    "                best_solution = curr_solution\n",
    "            curr_solution = 0\n",
    "        else:\n",
    "            curr_solution += 1\n",
    "    \n",
    "    return best_solution"
   ]
  },
  {
   "cell_type": "code",
   "execution_count": null,
   "metadata": {
    "collapsed": true
   },
   "outputs": [],
   "source": [
    "print binary_gap(100001)"
   ]
  },
  {
   "cell_type": "code",
   "execution_count": null,
   "metadata": {
    "collapsed": true
   },
   "outputs": [],
   "source": [
    "def solution2(N):\n",
    "    cnt = 0\n",
    "    result = 0\n",
    "    found_one = False\n",
    " \n",
    "    i = N    \n",
    "         \n",
    "    while i:\n",
    "        if i & 1 == 1:\n",
    "            if (found_one == False):\n",
    "                found_one = True\n",
    "            else:\n",
    "                result = max(result,cnt)\n",
    "            cnt = 0\n",
    "        else:\n",
    "            cnt += 1\n",
    "        i >>= 1\n",
    "    \n",
    "    return result"
   ]
  }
 ],
 "metadata": {
  "kernelspec": {
   "display_name": "Python 3 (ipykernel)",
   "language": "python",
   "name": "python3"
  },
  "language_info": {
   "codemirror_mode": {
    "name": "ipython",
    "version": 3
   },
   "file_extension": ".py",
   "mimetype": "text/x-python",
   "name": "python",
   "nbconvert_exporter": "python",
   "pygments_lexer": "ipython3",
   "version": "3.9.7"
  }
 },
 "nbformat": 4,
 "nbformat_minor": 1
}
