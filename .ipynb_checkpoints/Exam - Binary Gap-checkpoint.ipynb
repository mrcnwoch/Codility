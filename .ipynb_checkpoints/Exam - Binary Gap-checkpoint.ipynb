{
 "cells": [
  {
   "cell_type": "markdown",
   "metadata": {},
   "source": [
    "\n",
    "\n",
    "A binary gap within a positive integer N is any maximal sequence of consecutive zeros that is surrounded by ones at both ends in the binary representation of N.\n",
    "\n",
    "For example, number 9 has binary representation 1001 and contains a binary gap of length 2. The number 529 has binary representation 1000010001 and contains two binary gaps: one of length 4 and one of length 3. The number 20 has binary representation 10100 and contains one binary gap of length 1. The number 15 has binary representation 1111 and has no binary gaps.\n",
    "\n",
    "Write a function:\n",
    "\n",
    "    def solution(N)\n",
    "\n",
    "that, given a positive integer N, returns the length of its longest binary gap. The function should return 0 if N doesn't contain a binary gap.\n",
    "\n",
    "For example, given N = 1041 the function should return 5, because N has binary representation 10000010001 and so its longest binary gap is of length 5.\n",
    "\n",
    "Assume that:\n",
    "\n",
    "        N is an integer within the range [1..2,147,483,647].\n",
    "\n",
    "Complexity:\n",
    "\n",
    "        expected worst-case time complexity is O(log(N));\n",
    "        expected worst-case space complexity is O(1).\n",
    "\n"
   ]
  },
  {
   "cell_type": "code",
   "execution_count": 22,
   "metadata": {},
   "outputs": [],
   "source": [
    "def solution(N):\n",
    "    bin_repr = bin(N)[2:]\n",
    "    best_solution = 0\n",
    "    curr_solution = 0\n",
    "    \n",
    "    for symbol in bin_repr:\n",
    "        if symbol == '1':\n",
    "            if best_solution < curr_solution:\n",
    "                best_solution = curr_solution\n",
    "            curr_solution = 0\n",
    "        else:\n",
    "            curr_solution += 1\n",
    "    \n",
    "    return best_solution"
   ]
  },
  {
   "cell_type": "code",
   "execution_count": null,
   "metadata": {
    "collapsed": true
   },
   "outputs": [],
   "source": [
    "print binary_gap(100001)"
   ]
  },
  {
   "cell_type": "code",
   "execution_count": null,
   "metadata": {
    "collapsed": true
   },
   "outputs": [],
   "source": [
    "def solution2(N):\n",
    "    cnt = 0\n",
    "    result = 0\n",
    "    found_one = False\n",
    " \n",
    "    i = N    \n",
    "         \n",
    "    while i:\n",
    "        if i & 1 == 1:\n",
    "            if (found_one == False):\n",
    "                found_one = True\n",
    "            else:\n",
    "                result = max(result,cnt)\n",
    "            cnt = 0\n",
    "        else:\n",
    "            cnt += 1\n",
    "        i >>= 1\n",
    "    \n",
    "    return result"
   ]
  }
 ],
 "metadata": {
  "kernelspec": {
   "display_name": "Python 3 (ipykernel)",
   "language": "python",
   "name": "python3"
  },
  "language_info": {
   "codemirror_mode": {
    "name": "ipython",
    "version": 3
   },
   "file_extension": ".py",
   "mimetype": "text/x-python",
   "name": "python",
   "nbconvert_exporter": "python",
   "pygments_lexer": "ipython3",
   "version": "3.9.7"
  }
 },
 "nbformat": 4,
 "nbformat_minor": 1
}
