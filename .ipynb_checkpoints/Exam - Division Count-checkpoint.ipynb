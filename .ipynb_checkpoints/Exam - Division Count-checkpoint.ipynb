{
 "cells": [
  {
   "cell_type": "markdown",
   "metadata": {},
   "source": [
    "Returns the number of integers within the range [A..B] that are divisible by K.\n",
    "Used generators to save memory on large amounts of data.\n",
    "\n",
    "Arguments:\n",
    "- A: is an integer within the range [0..2,000,000,000]\n",
    "- B: is an integer within the range [0..2,000,000,000] and A <= B\n",
    "- K: is an integer within the range [1..2,000,000,000]"
   ]
  },
  {
   "cell_type": "code",
   "execution_count": 1,
   "metadata": {
    "collapsed": true
   },
   "outputs": [],
   "source": [
    "def count_div(A, B, K):\n",
    "    div_cnt = 0\n",
    "    \n",
    "    for i in xrange(A, B + 1):\n",
    "        if i % K == 0:\n",
    "            div_cnt += 1\n",
    "    \n",
    "    return div_cnt"
   ]
  },
  {
   "cell_type": "code",
   "execution_count": 3,
   "metadata": {},
   "outputs": [
    {
     "name": "stdout",
     "output_type": "stream",
     "text": [
      "3\n"
     ]
    }
   ],
   "source": [
    "print count_div(10, 20, 3)"
   ]
  },
  {
   "cell_type": "code",
   "execution_count": null,
   "metadata": {
    "collapsed": true
   },
   "outputs": [],
   "source": []
  }
 ],
 "metadata": {
  "anaconda-cloud": {},
  "kernelspec": {
   "display_name": "Python 3 (ipykernel)",
   "language": "python",
   "name": "python3"
  },
  "language_info": {
   "codemirror_mode": {
    "name": "ipython",
    "version": 3
   },
   "file_extension": ".py",
   "mimetype": "text/x-python",
   "name": "python",
   "nbconvert_exporter": "python",
   "pygments_lexer": "ipython3",
   "version": "3.9.7"
  }
 },
 "nbformat": 4,
 "nbformat_minor": 1
}
