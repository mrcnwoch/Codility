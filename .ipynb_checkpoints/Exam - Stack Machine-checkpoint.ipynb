{
 "cells": [
  {
   "cell_type": "markdown",
   "metadata": {},
   "source": []
  },
  {
   "cell_type": "code",
   "execution_count": 2,
   "metadata": {},
   "outputs": [],
   "source": [
    "def solution(S):\n",
    "    stack = []\n",
    "    \n",
    "    for ch in S:\n",
    "        if ch.isdigit():\n",
    "            stack.append(ch)\n",
    "        elif ch == \"+\":\n",
    "            if len(stack) < 2:\n",
    "                return -1\n",
    "            try:\n",
    "                no1 = int(stack.pop())\n",
    "                no2 = int(stack.pop())\n",
    "                stack.append(no1 + no2)\n",
    "            except:\n",
    "                return -1\n",
    "        elif ch == \"*\":\n",
    "            if len(stack) < 2:\n",
    "                return -1\n",
    "            try:\n",
    "                no1 = int(stack.pop())\n",
    "                no2 = int(stack.pop())\n",
    "                stack.append(no1 * no2)\n",
    "            except:\n",
    "                return -1\n",
    "        else:\n",
    "            return -1\n",
    "    \n",
    "    if len(stack) != 1:\n",
    "        return -1\n",
    "    \n",
    "    return stack[0]"
   ]
  },
  {
   "cell_type": "code",
   "execution_count": 3,
   "metadata": {},
   "outputs": [
    {
     "name": "stdout",
     "output_type": "stream",
     "text": [
      "76\n",
      "-1\n",
      "-1\n",
      "-1\n",
      "11\n",
      "0\n"
     ]
    }
   ],
   "source": [
    "print solution (\"13+62*7+*\")\n",
    "print solution(\"11++\")\n",
    "print solution(\"1s++\")\n",
    "print solution(\"\")\n",
    "print solution(\"18*3+\")\n",
    "print solution(\"00+\")"
   ]
  },
  {
   "cell_type": "code",
   "execution_count": null,
   "metadata": {
    "collapsed": true
   },
   "outputs": [],
   "source": []
  }
 ],
 "metadata": {
  "anaconda-cloud": {},
  "kernelspec": {
   "display_name": "Python 3 (ipykernel)",
   "language": "python",
   "name": "python3"
  },
  "language_info": {
   "codemirror_mode": {
    "name": "ipython",
    "version": 3
   },
   "file_extension": ".py",
   "mimetype": "text/x-python",
   "name": "python",
   "nbconvert_exporter": "python",
   "pygments_lexer": "ipython3",
   "version": "3.9.7"
  }
 },
 "nbformat": 4,
 "nbformat_minor": 1
}
