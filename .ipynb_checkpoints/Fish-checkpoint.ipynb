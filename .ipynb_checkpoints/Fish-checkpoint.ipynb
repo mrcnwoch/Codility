{
 "cells": [
  {
   "cell_type": "markdown",
   "metadata": {},
   "source": []
  },
  {
   "cell_type": "code",
   "execution_count": 73,
   "metadata": {},
   "outputs": [],
   "source": [
    "def solution(A, B):\n",
    "    cnt = 0\n",
    "    stack = []\n",
    "     \n",
    "    for i in range(len(A)):\n",
    "        if B[i] == 0:\n",
    "            while len(stack) != 0:\n",
    "                if stack[-1] > A[i]:\n",
    "                    break\n",
    "                else:\n",
    "                    stack.pop()      \n",
    "            else:\n",
    "                cnt += 1\n",
    "        else:\n",
    "            stack.append(A[i])\n",
    "             \n",
    "    cnt += len(stack)\n",
    "     \n",
    "    return cnt"
   ]
  },
  {
   "cell_type": "code",
   "execution_count": 74,
   "metadata": {},
   "outputs": [
    {
     "data": {
      "text/plain": [
       "2"
      ]
     },
     "execution_count": 74,
     "metadata": {},
     "output_type": "execute_result"
    }
   ],
   "source": [
    "A = [4, 3, 2, 1, 5]\n",
    "B = [0, 1, 0, 0, 0]\n",
    "\n",
    "solution(A, B)"
   ]
  },
  {
   "cell_type": "code",
   "execution_count": null,
   "metadata": {},
   "outputs": [],
   "source": []
  }
 ],
 "metadata": {
  "kernelspec": {
   "display_name": "Python 3 (ipykernel)",
   "language": "python",
   "name": "python3"
  },
  "language_info": {
   "codemirror_mode": {
    "name": "ipython",
    "version": 3
   },
   "file_extension": ".py",
   "mimetype": "text/x-python",
   "name": "python",
   "nbconvert_exporter": "python",
   "pygments_lexer": "ipython3",
   "version": "3.9.7"
  }
 },
 "nbformat": 4,
 "nbformat_minor": 2
}
