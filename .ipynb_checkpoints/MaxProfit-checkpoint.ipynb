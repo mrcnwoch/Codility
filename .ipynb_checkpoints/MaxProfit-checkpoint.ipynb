{
 "cells": [
  {
   "cell_type": "markdown",
   "metadata": {},
   "source": []
  },
  {
   "cell_type": "code",
   "execution_count": 32,
   "metadata": {},
   "outputs": [],
   "source": [
    "def solution(A):\n",
    "    n = len(A)\n",
    "    if n == 1 or n == 0:\n",
    "        return 0\n",
    "    \n",
    "    \n",
    "    max_price = 0\n",
    "    max_ending = 0\n",
    "    min_price = A[0]\n",
    "    \n",
    "    for i in range(1, n):\n",
    "        max_ending = max(0, A[i] - min_price)\n",
    "        min_price = min(min_price, A[i])\n",
    "        max_price = max(max_ending, max_price)\n",
    "    \n",
    "    return max_price"
   ]
  },
  {
   "cell_type": "code",
   "execution_count": 33,
   "metadata": {},
   "outputs": [
    {
     "name": "stdout",
     "output_type": "stream",
     "text": [
      "356\n",
      "5\n",
      "3\n"
     ]
    }
   ],
   "source": [
    "print(solution([23171, 21011, 21123, 21366, 21013, 21367]))\n",
    "print(solution([99, 1, 2, 3, 4, 5, 6, 1, 2, 3, 4, 5, 6]))\n",
    "print(solution([8, 9, 3, 6, 1, 2]))"
   ]
  },
  {
   "cell_type": "code",
   "execution_count": 13,
   "metadata": {},
   "outputs": [],
   "source": [
    "def solution_n2(A):  ##O(n^2)\n",
    "    max_prof = 0\n",
    "    for i in range(len(A)):\n",
    "        for j in range(i + 1, len(A)):\n",
    "            profit = A[j] - A[i]\n",
    "            if profit > max_prof:\n",
    "                max_prof = profit\n",
    "    \n",
    "    return max_prof"
   ]
  },
  {
   "cell_type": "code",
   "execution_count": 28,
   "metadata": {},
   "outputs": [],
   "source": [
    "def max_slice(A): ##Kadane's algorithm\n",
    "    max_ending = max_slice = 0\n",
    "    for a in A:\n",
    "        max_ending = max(0, max_ending + a)\n",
    "        max_slice = max(max_slice, max_ending)\n",
    "        \n",
    "    return max_slice"
   ]
  },
  {
   "cell_type": "code",
   "execution_count": 32,
   "metadata": {},
   "outputs": [
    {
     "data": {
      "text/plain": [
       "21367"
      ]
     },
     "execution_count": 32,
     "metadata": {},
     "output_type": "execute_result"
    }
   ],
   "source": [
    "max_slice([- 23171, -21011, - 21123, -21366, -21993, 21367])"
   ]
  },
  {
   "cell_type": "code",
   "execution_count": null,
   "metadata": {},
   "outputs": [],
   "source": []
  }
 ],
 "metadata": {
  "kernelspec": {
   "display_name": "Python 3 (ipykernel)",
   "language": "python",
   "name": "python3"
  },
  "language_info": {
   "codemirror_mode": {
    "name": "ipython",
    "version": 3
   },
   "file_extension": ".py",
   "mimetype": "text/x-python",
   "name": "python",
   "nbconvert_exporter": "python",
   "pygments_lexer": "ipython3",
   "version": "3.9.7"
  }
 },
 "nbformat": 4,
 "nbformat_minor": 2
}
