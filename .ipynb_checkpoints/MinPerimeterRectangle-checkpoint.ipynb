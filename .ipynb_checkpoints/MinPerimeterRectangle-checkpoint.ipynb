{
 "cells": [
  {
   "cell_type": "markdown",
   "metadata": {},
   "source": []
  },
  {
   "cell_type": "code",
   "execution_count": 18,
   "metadata": {},
   "outputs": [],
   "source": [
    "def solution(N):\n",
    "    if N == 0:\n",
    "        return 0\n",
    "    if N == 1:\n",
    "        return 4\n",
    "\n",
    "    i = 1\n",
    "    \n",
    "    min_perim = 0\n",
    "    while i * i < N:\n",
    "        if N % i == 0:\n",
    "            perim = 2 * (i + N / i)\n",
    "            if min_perim == 0 or min_perim > perim:\n",
    "                min_perim = perim\n",
    "            \n",
    "        i += 1\n",
    "    \n",
    "    if (i * i == N):\n",
    "        perim = 4 * i\n",
    "        if min_perim == 0 or min_perim > perim:\n",
    "            min_perim = perim\n",
    "        \n",
    "    return int(min_perim)"
   ]
  },
  {
   "cell_type": "code",
   "execution_count": 19,
   "metadata": {},
   "outputs": [
    {
     "data": {
      "text/plain": [
       "22"
      ]
     },
     "execution_count": 19,
     "metadata": {},
     "output_type": "execute_result"
    }
   ],
   "source": [
    "solution(30)"
   ]
  },
  {
   "cell_type": "code",
   "execution_count": null,
   "metadata": {},
   "outputs": [],
   "source": []
  }
 ],
 "metadata": {
  "kernelspec": {
   "display_name": "Python 3 (ipykernel)",
   "language": "python",
   "name": "python3"
  },
  "language_info": {
   "codemirror_mode": {
    "name": "ipython",
    "version": 3
   },
   "file_extension": ".py",
   "mimetype": "text/x-python",
   "name": "python",
   "nbconvert_exporter": "python",
   "pygments_lexer": "ipython3",
   "version": "3.9.7"
  }
 },
 "nbformat": 4,
 "nbformat_minor": 2
}
