{
 "cells": [
  {
   "cell_type": "markdown",
   "metadata": {},
   "source": [
    "An integer N is given, representing the area of some rectangle.\n",
    "\n",
    "The area of a rectangle whose sides are of length A and B is A * B, and the perimeter is 2 * (A + B).\n",
    "\n",
    "The goal is to find the minimal perimeter of any rectangle whose area equals N. The sides of this rectangle should be only integers.\n",
    "\n",
    "For example, given integer N = 30, rectangles of area 30 are:\n",
    "\n",
    "        (1, 30), with a perimeter of 62,\n",
    "        (2, 15), with a perimeter of 34,\n",
    "        (3, 10), with a perimeter of 26,\n",
    "        (5, 6), with a perimeter of 22.\n",
    "\n",
    "Write a function:\n",
    "\n",
    "    def solution(N)\n",
    "\n",
    "that, given an integer N, returns the minimal perimeter of any rectangle whose area is exactly equal to N.\n",
    "\n",
    "For example, given an integer N = 30, the function should return 22, as explained above.\n",
    "\n",
    "Write an efficient algorithm for the following assumptions:\n",
    "\n",
    "        N is an integer within the range [1..1,000,000,000].\n",
    "\n"
   ]
  },
  {
   "cell_type": "code",
   "execution_count": 18,
   "metadata": {},
   "outputs": [],
   "source": [
    "def solution(N):\n",
    "    if N == 0:\n",
    "        return 0\n",
    "    if N == 1:\n",
    "        return 4\n",
    "\n",
    "    i = 1\n",
    "    \n",
    "    min_perim = 0\n",
    "    while i * i < N:\n",
    "        if N % i == 0:\n",
    "            perim = 2 * (i + N / i)\n",
    "            if min_perim == 0 or min_perim > perim:\n",
    "                min_perim = perim\n",
    "            \n",
    "        i += 1\n",
    "    \n",
    "    if (i * i == N):\n",
    "        perim = 4 * i\n",
    "        if min_perim == 0 or min_perim > perim:\n",
    "            min_perim = perim\n",
    "        \n",
    "    return int(min_perim)"
   ]
  },
  {
   "cell_type": "code",
   "execution_count": 19,
   "metadata": {},
   "outputs": [
    {
     "data": {
      "text/plain": [
       "22"
      ]
     },
     "execution_count": 19,
     "metadata": {},
     "output_type": "execute_result"
    }
   ],
   "source": [
    "solution(30)"
   ]
  },
  {
   "cell_type": "code",
   "execution_count": null,
   "metadata": {},
   "outputs": [],
   "source": []
  }
 ],
 "metadata": {
  "kernelspec": {
   "display_name": "Python 3 (ipykernel)",
   "language": "python",
   "name": "python3"
  },
  "language_info": {
   "codemirror_mode": {
    "name": "ipython",
    "version": 3
   },
   "file_extension": ".py",
   "mimetype": "text/x-python",
   "name": "python",
   "nbconvert_exporter": "python",
   "pygments_lexer": "ipython3",
   "version": "3.9.7"
  }
 },
 "nbformat": 4,
 "nbformat_minor": 2
}
