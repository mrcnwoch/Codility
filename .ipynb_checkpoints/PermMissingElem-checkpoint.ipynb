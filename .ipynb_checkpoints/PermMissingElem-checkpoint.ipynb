{
 "cells": [
  {
   "cell_type": "markdown",
   "metadata": {},
   "source": []
  },
  {
   "cell_type": "code",
   "execution_count": 29,
   "metadata": {},
   "outputs": [],
   "source": [
    "def solution(A):\n",
    "    lenA = len(A)\n",
    "    should_be = lenA * (lenA + 3) / 2\n",
    "    sum_is = 0\n",
    " \n",
    "    for idx in xrange(len(A)):\n",
    "        sum_is += A[idx]\n",
    " \n",
    "    return should_be - sum_is + 1"
   ]
  },
  {
   "cell_type": "code",
   "execution_count": 28,
   "metadata": {},
   "outputs": [
    {
     "name": "stdout",
     "output_type": "stream",
     "text": [
      "14\n",
      "4\n"
     ]
    }
   ],
   "source": [
    "print solution([2, 3, 1, 5])"
   ]
  },
  {
   "cell_type": "code",
   "execution_count": null,
   "metadata": {
    "collapsed": true
   },
   "outputs": [],
   "source": [
    "def solutionB(A):\n",
    "    missing_element = len(A)+1\n",
    "     \n",
    "    for idx,value in enumerate(A):\n",
    "        missing_element = missing_element ^ value ^ (idx+1) #xor\n",
    "         \n",
    "    return missing_element"
   ]
  }
 ],
 "metadata": {
  "kernelspec": {
   "display_name": "Python 3 (ipykernel)",
   "language": "python",
   "name": "python3"
  },
  "language_info": {
   "codemirror_mode": {
    "name": "ipython",
    "version": 3
   },
   "file_extension": ".py",
   "mimetype": "text/x-python",
   "name": "python",
   "nbconvert_exporter": "python",
   "pygments_lexer": "ipython3",
   "version": "3.9.7"
  }
 },
 "nbformat": 4,
 "nbformat_minor": 1
}
