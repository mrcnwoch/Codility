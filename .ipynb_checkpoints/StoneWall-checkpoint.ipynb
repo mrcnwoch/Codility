{
 "cells": [
  {
   "cell_type": "markdown",
   "metadata": {},
   "source": []
  },
  {
   "cell_type": "code",
   "execution_count": 43,
   "metadata": {},
   "outputs": [],
   "source": [
    "def solution(H):  ##O(n)\n",
    "    block_cnt = 0\n",
    "     \n",
    "    heights = list(set(H))\n",
    "    \n",
    "    if len(heights) == 0:\n",
    "        return 0\n",
    "    elif len(heights) == 1:\n",
    "        if heights[0] == 0:\n",
    "            return 0\n",
    "        else:\n",
    "            return 1\n",
    "        \n",
    "    stack = []\n",
    "     \n",
    "    for h in H:\n",
    "        while len(stack) != 0 and stack[-1] > h:\n",
    "            stack.pop()\n",
    "         \n",
    "        if len(stack) == 0 or stack[-1] != h:\n",
    "            block_cnt += 1\n",
    "            stack.append(h)\n",
    "             \n",
    "    return block_cnt"
   ]
  },
  {
   "cell_type": "code",
   "execution_count": 44,
   "metadata": {},
   "outputs": [
    {
     "name": "stdout",
     "output_type": "stream",
     "text": [
      "7\n",
      "0\n",
      "6\n"
     ]
    }
   ],
   "source": [
    "print(solution([8, 8, 5, 7, 9, 8, 7, 4, 8]))\n",
    "print(solution([0, 0, 0, 0, 0, 0, 0]))\n",
    "print(solution([0, 4, 4, 7, 9, 8, 7, 4, 8]))"
   ]
  },
  {
   "cell_type": "code",
   "execution_count": null,
   "metadata": {},
   "outputs": [],
   "source": [
    "def solution1(H): ##O(n^2)\n",
    "    heights = list(set(H))\n",
    "    \n",
    "    if len(heights) == 0:\n",
    "        return 0\n",
    "    elif len(heights) == 1:\n",
    "        if heights[0] == 0:\n",
    "            return 0\n",
    "        else:\n",
    "            return 1\n",
    "\n",
    "    while H[0] == 0:\n",
    "        del H[0]\n",
    "    \n",
    "    while H[-1] == 0:\n",
    "        del H[-1]\n",
    "        \n",
    "    cnt = 0\n",
    "    mn = min(heights)\n",
    "    \n",
    "    H = [x - mn for x in H]\n",
    "    cnt += 1\n",
    "    while H[0] == 0:\n",
    "        del H[0]\n",
    "    \n",
    "    while H[-1] == 0:\n",
    "        del H[-1]\n",
    "    \n",
    "    zeroes = [i for i, e in enumerate(H) if e == 0]\n",
    "    \n",
    "    if len(zeroes) > 0:\n",
    "        prevI = 0\n",
    "        for i in zeroes:\n",
    "            cnt += solution(H[prevI:i])\n",
    "            prevI = i + 1\n",
    "        cnt += solution(H[zeroes[-1] + 1:])\n",
    "    else:\n",
    "        cnt += solution(H)\n",
    "    \n",
    "    return cnt"
   ]
  }
 ],
 "metadata": {
  "kernelspec": {
   "display_name": "Python 3 (ipykernel)",
   "language": "python",
   "name": "python3"
  },
  "language_info": {
   "codemirror_mode": {
    "name": "ipython",
    "version": 3
   },
   "file_extension": ".py",
   "mimetype": "text/x-python",
   "name": "python",
   "nbconvert_exporter": "python",
   "pygments_lexer": "ipython3",
   "version": "3.9.7"
  }
 },
 "nbformat": 4,
 "nbformat_minor": 2
}
