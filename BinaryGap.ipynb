{
 "cells": [
  {
   "cell_type": "markdown",
   "id": "94ac9b14",
   "metadata": {},
   "source": []
  },
  {
   "cell_type": "code",
   "execution_count": 22,
   "id": "e61e460b",
   "metadata": {},
   "outputs": [],
   "source": [
    "def solution(N):\n",
    "    bin_gap = 0\n",
    "    max_bin_gap = 0\n",
    "    bin_n_txt = format(N, \"b\")\n",
    "    \n",
    "    bin_n_txt = bin_n_txt.rstrip(\"0\").lstrip(\"0\")\n",
    "    \n",
    "    for s in bin_n_txt:\n",
    "        if s == '1':\n",
    "            bin_gap = 0\n",
    "        else:\n",
    "            bin_gap += 1\n",
    "            \n",
    "        print(s, bin_gap)\n",
    "\n",
    "        if max_bin_gap < bin_gap:\n",
    "            max_bin_gap = bin_gap\n",
    "    \n",
    "    return max_bin_gap"
   ]
  },
  {
   "cell_type": "code",
   "execution_count": 23,
   "id": "f7c6d980",
   "metadata": {},
   "outputs": [
    {
     "name": "stdout",
     "output_type": "stream",
     "text": [
      "10100\n",
      "101\n",
      "1 0\n",
      "0 1\n",
      "1 0\n"
     ]
    },
    {
     "data": {
      "text/plain": [
       "1"
      ]
     },
     "execution_count": 23,
     "metadata": {},
     "output_type": "execute_result"
    }
   ],
   "source": [
    "solution(20)"
   ]
  },
  {
   "cell_type": "code",
   "execution_count": null,
   "id": "c6138419",
   "metadata": {},
   "outputs": [],
   "source": []
  },
  {
   "cell_type": "code",
   "execution_count": null,
   "id": "052b7132",
   "metadata": {},
   "outputs": [],
   "source": []
  }
 ],
 "metadata": {
  "kernelspec": {
   "display_name": "Python 3 (ipykernel)",
   "language": "python",
   "name": "python3"
  },
  "language_info": {
   "codemirror_mode": {
    "name": "ipython",
    "version": 3
   },
   "file_extension": ".py",
   "mimetype": "text/x-python",
   "name": "python",
   "nbconvert_exporter": "python",
   "pygments_lexer": "ipython3",
   "version": "3.9.7"
  }
 },
 "nbformat": 4,
 "nbformat_minor": 5
}
