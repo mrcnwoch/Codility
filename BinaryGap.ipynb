{
 "cells": [
  {
   "cell_type": "markdown",
   "id": "94ac9b14",
   "metadata": {},
   "source": [
    "A binary gap within a positive integer N is any maximal sequence of consecutive zeros that is surrounded by ones at both ends in the binary representation of N.\n",
    "\n",
    "For example, number 9 has binary representation 1001 and contains a binary gap of length 2. The number 529 has binary representation 1000010001 and contains two binary gaps: one of length 4 and one of length 3. The number 20 has binary representation 10100 and contains one binary gap of length 1. The number 15 has binary representation 1111 and has no binary gaps. The number 32 has binary representation 100000 and has no binary gaps.\n",
    "\n",
    "Write a function:\n",
    "\n",
    "    def solution(N)\n",
    "\n",
    "that, given a positive integer N, returns the length of its longest binary gap. The function should return 0 if N doesn't contain a binary gap.\n",
    "\n",
    "For example, given N = 1041 the function should return 5, because N has binary representation 10000010001 and so its longest binary gap is of length 5. Given N = 32 the function should return 0, because N has binary representation '100000' and thus no binary gaps.\n",
    "\n",
    "Write an efficient algorithm for the following assumptions:\n",
    "\n",
    "        N is an integer within the range [1..2,147,483,647].\n",
    "\n"
   ]
  },
  {
   "cell_type": "code",
   "execution_count": 22,
   "id": "e61e460b",
   "metadata": {},
   "outputs": [],
   "source": [
    "def solution(N):\n",
    "    bin_gap = 0\n",
    "    max_bin_gap = 0\n",
    "    bin_n_txt = format(N, \"b\")\n",
    "    \n",
    "    bin_n_txt = bin_n_txt.rstrip(\"0\").lstrip(\"0\")\n",
    "    \n",
    "    for s in bin_n_txt:\n",
    "        if s == '1':\n",
    "            bin_gap = 0\n",
    "        else:\n",
    "            bin_gap += 1\n",
    "            \n",
    "        print(s, bin_gap)\n",
    "\n",
    "        if max_bin_gap < bin_gap:\n",
    "            max_bin_gap = bin_gap\n",
    "    \n",
    "    return max_bin_gap"
   ]
  },
  {
   "cell_type": "code",
   "execution_count": 23,
   "id": "f7c6d980",
   "metadata": {},
   "outputs": [
    {
     "name": "stdout",
     "output_type": "stream",
     "text": [
      "10100\n",
      "101\n",
      "1 0\n",
      "0 1\n",
      "1 0\n"
     ]
    },
    {
     "data": {
      "text/plain": [
       "1"
      ]
     },
     "execution_count": 23,
     "metadata": {},
     "output_type": "execute_result"
    }
   ],
   "source": [
    "solution(20)"
   ]
  },
  {
   "cell_type": "code",
   "execution_count": null,
   "id": "c6138419",
   "metadata": {},
   "outputs": [],
   "source": []
  },
  {
   "cell_type": "code",
   "execution_count": null,
   "id": "052b7132",
   "metadata": {},
   "outputs": [],
   "source": []
  }
 ],
 "metadata": {
  "kernelspec": {
   "display_name": "Python 3 (ipykernel)",
   "language": "python",
   "name": "python3"
  },
  "language_info": {
   "codemirror_mode": {
    "name": "ipython",
    "version": 3
   },
   "file_extension": ".py",
   "mimetype": "text/x-python",
   "name": "python",
   "nbconvert_exporter": "python",
   "pygments_lexer": "ipython3",
   "version": "3.9.7"
  }
 },
 "nbformat": 4,
 "nbformat_minor": 5
}
