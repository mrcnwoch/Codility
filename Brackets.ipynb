{
 "cells": [
  {
   "cell_type": "markdown",
   "metadata": {},
   "source": [
    "\n",
    "\n",
    "A string S consisting of N characters is considered to be properly nested if any of the following conditions is true:\n",
    "\n",
    "        S is empty;\n",
    "        S has the form \"(U)\" or \"[U]\" or \"{U}\" where U is a properly nested string;\n",
    "        S has the form \"VW\" where V and W are properly nested strings.\n",
    "\n",
    "For example, the string \"{[()()]}\" is properly nested but \"([)()]\" is not.\n",
    "\n",
    "Write a function:\n",
    "\n",
    "    def solution(S)\n",
    "\n",
    "that, given a string S consisting of N characters, returns 1 if S is properly nested and 0 otherwise.\n",
    "\n",
    "For example, given S = \"{[()()]}\", the function should return 1 and given S = \"([)()]\", the function should return 0, as explained above.\n",
    "\n",
    "Assume that:\n",
    "\n",
    "        N is an integer within the range [0..200,000];\n",
    "        string S consists only of the following characters: \"(\", \"{\", \"[\", \"]\", \"}\" and/or \")\".\n",
    "\n",
    "Complexity:\n",
    "\n",
    "        expected worst-case time complexity is O(N);\n",
    "        expected worst-case space complexity is O(N) (not counting the storage required for input arguments).\n",
    "\n"
   ]
  },
  {
   "cell_type": "code",
   "execution_count": 36,
   "metadata": {},
   "outputs": [],
   "source": [
    "def solution(S):\n",
    "    if len(S) == 0:\n",
    "        return 1\n",
    "    \n",
    "    stack = []\n",
    "    for ch in S:\n",
    "        if ch == \"{\" or ch == \"[\" or ch == \"(\":\n",
    "            stack.append(ch)\n",
    "        else:\n",
    "            if len(stack) == 0:\n",
    "                return 0\n",
    "            last = stack.pop()\n",
    "            \n",
    "            if ch == '}' and last != '{':\n",
    "                return 0\n",
    "            elif ch == ')' and last != '(':\n",
    "                return 0\n",
    "            elif ch == ']' and last != '[':\n",
    "                return 0\n",
    "    \n",
    "    if len(stack) != 0:\n",
    "        return 0\n",
    "    \n",
    "    return 1"
   ]
  },
  {
   "cell_type": "code",
   "execution_count": 37,
   "metadata": {},
   "outputs": [
    {
     "name": "stdout",
     "output_type": "stream",
     "text": [
      "1\n",
      "0\n",
      "1\n",
      "0\n",
      "0\n"
     ]
    }
   ],
   "source": [
    "print solution(\"{[()()]}\")\n",
    "print solution(\"([)()]\")\n",
    "print solution(\"\")\n",
    "print solution(\"{}(\")\n",
    "print solution(\"{}(a)\")"
   ]
  },
  {
   "cell_type": "code",
   "execution_count": null,
   "metadata": {
    "collapsed": true
   },
   "outputs": [],
   "source": []
  }
 ],
 "metadata": {
  "anaconda-cloud": {},
  "kernelspec": {
   "display_name": "Python 3",
   "language": "python",
   "name": "python3"
  },
  "language_info": {
   "codemirror_mode": {
    "name": "ipython",
    "version": 3
   },
   "file_extension": ".py",
   "mimetype": "text/x-python",
   "name": "python",
   "nbconvert_exporter": "python",
   "pygments_lexer": "ipython3",
   "version": "3.6.4"
  }
 },
 "nbformat": 4,
 "nbformat_minor": 1
}
