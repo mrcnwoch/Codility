{
 "cells": [
  {
   "cell_type": "code",
   "execution_count": 19,
   "metadata": {},
   "outputs": [],
   "source": [
    "def solution(N, M):\n",
    "    wrappers = [0] * N\n",
    "    \n",
    "    i = 0\n",
    "    steps = 0\n",
    "    while wrappers[i] == 0:\n",
    "        wrappers[i] = 1\n",
    "        i += 4\n",
    "        i = i % N\n",
    "        steps += 1\n",
    "        \n",
    "    return steps"
   ]
  },
  {
   "cell_type": "code",
   "execution_count": 22,
   "metadata": {},
   "outputs": [],
   "source": [
    "def solution_gcd(N, M):\n",
    "    import math\n",
    "    gcd = math.gcd(N, M)\n",
    "    \n",
    "    return int(N / gcd)"
   ]
  },
  {
   "cell_type": "code",
   "execution_count": 24,
   "metadata": {},
   "outputs": [
    {
     "name": "stdout",
     "output_type": "stream",
     "text": [
      "5 5\n"
     ]
    }
   ],
   "source": [
    "N = 10\n",
    "M = 4\n",
    "print(solution(N, M), solution_gcd(N, M))"
   ]
  },
  {
   "cell_type": "code",
   "execution_count": null,
   "metadata": {},
   "outputs": [],
   "source": []
  }
 ],
 "metadata": {
  "kernelspec": {
   "display_name": "Python 3 (ipykernel)",
   "language": "python",
   "name": "python3"
  },
  "language_info": {
   "codemirror_mode": {
    "name": "ipython",
    "version": 3
   },
   "file_extension": ".py",
   "mimetype": "text/x-python",
   "name": "python",
   "nbconvert_exporter": "python",
   "pygments_lexer": "ipython3",
   "version": "3.9.7"
  }
 },
 "nbformat": 4,
 "nbformat_minor": 2
}
