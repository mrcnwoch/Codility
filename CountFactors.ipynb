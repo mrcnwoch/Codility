{
 "cells": [
  {
   "cell_type": "markdown",
   "metadata": {},
   "source": []
  },
  {
   "cell_type": "code",
   "execution_count": 94,
   "metadata": {},
   "outputs": [],
   "source": [
    "def solution(N): ##O(sqrt(N))\n",
    "    if N == 0:\n",
    "        return 0\n",
    "    if N == 1:\n",
    "        return 1\n",
    "    \n",
    "    divisors = 0\n",
    "    i = 1\n",
    "    \n",
    "    while i * i < N:\n",
    "        if N % i == 0:\n",
    "            divisors += 2\n",
    "        i += 1\n",
    "    \n",
    "    if (i * i == N):\n",
    "        divisors += 1\n",
    "        \n",
    "    return divisors"
   ]
  },
  {
   "cell_type": "code",
   "execution_count": 91,
   "metadata": {},
   "outputs": [
    {
     "data": {
      "text/plain": [
       "2"
      ]
     },
     "execution_count": 91,
     "metadata": {},
     "output_type": "execute_result"
    }
   ],
   "source": [
    "solution(780291637)"
   ]
  },
  {
   "cell_type": "code",
   "execution_count": 93,
   "metadata": {},
   "outputs": [],
   "source": [
    "for i in range(500):\n",
    "    sol1 = solution(i)\n",
    "    sol2 = solution_n(i)\n",
    "    if sol1 != sol2:\n",
    "        print(i, sol1, sol2)"
   ]
  },
  {
   "cell_type": "code",
   "execution_count": 32,
   "metadata": {},
   "outputs": [],
   "source": [
    "def solution_n(N): ##O(n)\n",
    "    if N == 0:\n",
    "        return 0\n",
    "    if N == 1:\n",
    "        return 1\n",
    "    \n",
    "    divisors = 2\n",
    "    i_min = 2\n",
    "    i_max = N - 1\n",
    "    \n",
    "    while i_min <= i_max:\n",
    "        if N / i_min == N // i_min:\n",
    "            i_max = N / i_min\n",
    "            if i_min < i_max:\n",
    "                divisors += 2\n",
    "            elif i_min == i_max:\n",
    "                divisors += 1\n",
    "            \n",
    "        i_min += 1\n",
    "        \n",
    "    return divisors"
   ]
  },
  {
   "cell_type": "code",
   "execution_count": null,
   "metadata": {},
   "outputs": [],
   "source": []
  }
 ],
 "metadata": {
  "kernelspec": {
   "display_name": "Python 3 (ipykernel)",
   "language": "python",
   "name": "python3"
  },
  "language_info": {
   "codemirror_mode": {
    "name": "ipython",
    "version": 3
   },
   "file_extension": ".py",
   "mimetype": "text/x-python",
   "name": "python",
   "nbconvert_exporter": "python",
   "pygments_lexer": "ipython3",
   "version": "3.9.7"
  }
 },
 "nbformat": 4,
 "nbformat_minor": 2
}
