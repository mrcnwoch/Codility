{
 "cells": [
  {
   "cell_type": "markdown",
   "metadata": {},
   "source": []
  },
  {
   "cell_type": "code",
   "execution_count": 28,
   "metadata": {},
   "outputs": [],
   "source": [
    "def solution(A): ##O(nlogn)\n",
    "    if len(A) == 0:\n",
    "        return -1\n",
    "    if len(A) == 1:\n",
    "        return 0\n",
    "    \n",
    "    B = A[:]\n",
    "    B.sort()\n",
    "    n = len(B)\n",
    "    \n",
    "    candidate = B[n // 2]\n",
    "    \n",
    "    if B.count(candidate) > n / 2:\n",
    "        return A.index(candidate)\n",
    "    \n",
    "    return -1"
   ]
  },
  {
   "cell_type": "code",
   "execution_count": 29,
   "metadata": {},
   "outputs": [
    {
     "name": "stdout",
     "output_type": "stream",
     "text": [
      "0\n",
      "-1\n"
     ]
    }
   ],
   "source": [
    "print(solution([3, 4, 3, 2, 3, -1, 3, 3]))\n",
    "print(solution([]))"
   ]
  },
  {
   "cell_type": "code",
   "execution_count": null,
   "metadata": {},
   "outputs": [],
   "source": [
    "def solution(A): ##O(n)\n",
    "    n = len(A)\n",
    "    size = 0\n",
    "    \n",
    "    for k in range(n):\n",
    "        if (size == 0):\n",
    "            size += 1\n",
    "            value = A[k]\n",
    "        else:\n",
    "            if (value != A[k]):\n",
    "                size -= 1\n",
    "            else:\n",
    "                size += 1\n",
    "    candidate = -1\n",
    "    if (size > 0):\n",
    "        candidate = value\n",
    "    leader = -1\n",
    "    count = 0\n",
    "    for k in range(n):\n",
    "        if (A[k] == candidate):\n",
    "            count += 1\n",
    "    if (count > n // 2):\n",
    "        leader = candidate\n",
    "    \n",
    "    return A.index(leader)"
   ]
  }
 ],
 "metadata": {
  "kernelspec": {
   "display_name": "Python 3 (ipykernel)",
   "language": "python",
   "name": "python3"
  },
  "language_info": {
   "codemirror_mode": {
    "name": "ipython",
    "version": 3
   },
   "file_extension": ".py",
   "mimetype": "text/x-python",
   "name": "python",
   "nbconvert_exporter": "python",
   "pygments_lexer": "ipython3",
   "version": "3.9.7"
  }
 },
 "nbformat": 4,
 "nbformat_minor": 2
}
