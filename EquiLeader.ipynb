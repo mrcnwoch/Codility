{
 "cells": [
  {
   "cell_type": "markdown",
   "metadata": {},
   "source": []
  },
  {
   "cell_type": "code",
   "execution_count": 75,
   "metadata": {},
   "outputs": [],
   "source": [
    "def leader(A):\n",
    "    n = len(A)\n",
    "    size = 0\n",
    "    \n",
    "    for k in range(n):\n",
    "        if (size == 0):\n",
    "            size += 1\n",
    "            value = A[k]\n",
    "        else:\n",
    "            if (value != A[k]):\n",
    "                size -= 1\n",
    "            else:\n",
    "                size += 1\n",
    "            \n",
    "    candidate = -1\n",
    "    if (size > 0):\n",
    "        candidate = value\n",
    "           \n",
    "    cnt = A.count(candidate)\n",
    "    if cnt  > n // 2:\n",
    "        return cnt, candidate\n",
    "    \n",
    "    return 0, -1\n",
    "\n",
    "def solution(A): ##O(n)\n",
    "    cnt = 0\n",
    "    leader_count, ldr = leader(A)\n",
    "    n = len(A)\n",
    "    \n",
    "    equi_leaders = 0\n",
    "    leader_count_so_far = 0\n",
    "    for index in range(n):\n",
    "        if A[index] == ldr:\n",
    "            leader_count_so_far += 1\n",
    "        if leader_count_so_far > (index + 1) // 2 and leader_count - leader_count_so_far > (n - index - 1) // 2:\n",
    "            equi_leaders += 1\n",
    "    \n",
    "    return equi_leaders"
   ]
  },
  {
   "cell_type": "code",
   "execution_count": 76,
   "metadata": {},
   "outputs": [
    {
     "name": "stdout",
     "output_type": "stream",
     "text": [
      "2\n",
      "0\n"
     ]
    }
   ],
   "source": [
    "print(solution([4, 3, 4, 4, 4, 2]))\n",
    "print(solution([2, 3, -1, -1, -1, 2]))"
   ]
  },
  {
   "cell_type": "code",
   "execution_count": null,
   "metadata": {},
   "outputs": [],
   "source": [
    "def leader(A):\n",
    "    n = len(A)\n",
    "    size = 0\n",
    "    \n",
    "    for k in range(n):\n",
    "        if (size == 0):\n",
    "            size += 1\n",
    "            value = A[k]\n",
    "        else:\n",
    "            if (value != A[k]):\n",
    "                size -= 1\n",
    "            else:\n",
    "                size += 1\n",
    "            \n",
    "    candidate = -1\n",
    "    if (size > 0):\n",
    "        candidate = value\n",
    "                \n",
    "    if A.count(candidate) > n // 2:\n",
    "        return True, candidate\n",
    "    \n",
    "    return False, -1\n",
    "\n",
    "def solution(A): ##O(n^2)\n",
    "    cnt = 0\n",
    "    \n",
    "    for i in range(1, len(A)):\n",
    "        A1 = A[0:i]\n",
    "        f1, l1 = leader(A1)\n",
    "        A2 = A[i:]\n",
    "        f2, l2 = leader(A2)\n",
    "        \n",
    "        if f1 and f2 and leader(A1) == leader(A2):\n",
    "            cnt += 1\n",
    "    \n",
    "    return cnt"
   ]
  }
 ],
 "metadata": {
  "kernelspec": {
   "display_name": "Python 3 (ipykernel)",
   "language": "python",
   "name": "python3"
  },
  "language_info": {
   "codemirror_mode": {
    "name": "ipython",
    "version": 3
   },
   "file_extension": ".py",
   "mimetype": "text/x-python",
   "name": "python",
   "nbconvert_exporter": "python",
   "pygments_lexer": "ipython3",
   "version": "3.9.7"
  }
 },
 "nbformat": 4,
 "nbformat_minor": 2
}
