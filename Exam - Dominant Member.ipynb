{
 "cells": [
  {
   "cell_type": "markdown",
   "metadata": {},
   "source": []
  },
  {
   "cell_type": "code",
   "execution_count": 20,
   "metadata": {},
   "outputs": [],
   "source": [
    "def solution(A):\n",
    "    x = 0\n",
    "    count = 0\n",
    "    if len(A) == 0:\n",
    "        return 0\n",
    "    \n",
    "    for i in range(len(A)):\n",
    "        if count == 0:\n",
    "            x = A[i]\n",
    "            count += 1\n",
    "        elif A[i] == x:\n",
    "            count += 1\n",
    "        else:\n",
    "            count -=1\n",
    "    \n",
    "    count = 0\n",
    "    for i in range(len(A)):\n",
    "        if A[i] == x:\n",
    "            count += 1\n",
    "    \n",
    "    if count >= (len(A) / float(2)):\n",
    "        return 1\n",
    "    \n",
    "    return 0"
   ]
  },
  {
   "cell_type": "code",
   "execution_count": 21,
   "metadata": {},
   "outputs": [
    {
     "name": "stdout",
     "output_type": "stream",
     "text": [
      "1\n",
      "1\n",
      "0\n",
      "0\n"
     ]
    }
   ],
   "source": [
    "print solution([3, 67, 23, 67, 67])\n",
    "print solution([3, 67, 23, 67, 67, 1, 1, 1, 1, 1, 1])\n",
    "print solution([])\n",
    "print solution([1, 2, 3, 3, 5])"
   ]
  },
  {
   "cell_type": "code",
   "execution_count": null,
   "metadata": {
    "collapsed": true
   },
   "outputs": [],
   "source": []
  }
 ],
 "metadata": {
  "kernelspec": {
   "display_name": "Python 3 (ipykernel)",
   "language": "python",
   "name": "python3"
  },
  "language_info": {
   "codemirror_mode": {
    "name": "ipython",
    "version": 3
   },
   "file_extension": ".py",
   "mimetype": "text/x-python",
   "name": "python",
   "nbconvert_exporter": "python",
   "pygments_lexer": "ipython3",
   "version": "3.9.7"
  }
 },
 "nbformat": 4,
 "nbformat_minor": 1
}
