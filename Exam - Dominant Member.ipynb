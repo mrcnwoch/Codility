{
 "cells": [
  {
   "cell_type": "markdown",
   "metadata": {},
   "source": [
    "A dominant member in the array is one that occupies over half the positions in the array, for example:\n",
    "[3, 67, 23, 67, 67}\n",
    "\n",
    "67 is a dominant member because it appears in the array in 3/5 (>50%) positions.\n",
    "\n",
    "You are expected to provide a method that takes in an array and returns an index of the dominant member if one exists and -1 if there is none.\n",
    "\n",
    "•\tExpected time complexity is O(n)\n",
    "•\tExpected space complexity is O(1)\n",
    "\n"
   ]
  },
  {
   "cell_type": "code",
   "execution_count": 20,
   "metadata": {
    "collapsed": false
   },
   "outputs": [],
   "source": [
    "def solution(A):\n",
    "    x = 0\n",
    "    count = 0\n",
    "    if len(A) == 0:\n",
    "        return 0\n",
    "    \n",
    "    for i in range(len(A)):\n",
    "        if count == 0:\n",
    "            x = A[i]\n",
    "            count += 1\n",
    "        elif A[i] == x:\n",
    "            count += 1\n",
    "        else:\n",
    "            count -=1\n",
    "    \n",
    "    count = 0\n",
    "    for i in range(len(A)):\n",
    "        if A[i] == x:\n",
    "            count += 1\n",
    "    \n",
    "    if count >= (len(A) / float(2)):\n",
    "        return 1\n",
    "    \n",
    "    return 0"
   ]
  },
  {
   "cell_type": "code",
   "execution_count": 21,
   "metadata": {
    "collapsed": false
   },
   "outputs": [
    {
     "name": "stdout",
     "output_type": "stream",
     "text": [
      "1\n",
      "1\n",
      "0\n",
      "0\n"
     ]
    }
   ],
   "source": [
    "print solution([3, 67, 23, 67, 67])\n",
    "print solution([3, 67, 23, 67, 67, 1, 1, 1, 1, 1, 1])\n",
    "print solution([])\n",
    "print solution([1, 2, 3, 3, 5])"
   ]
  },
  {
   "cell_type": "code",
   "execution_count": null,
   "metadata": {
    "collapsed": true
   },
   "outputs": [],
   "source": []
  }
 ],
 "metadata": {
  "kernelspec": {
   "display_name": "Python [conda root]",
   "language": "python",
   "name": "conda-root-py"
  },
  "language_info": {
   "codemirror_mode": {
    "name": "ipython",
    "version": 2
   },
   "file_extension": ".py",
   "mimetype": "text/x-python",
   "name": "python",
   "nbconvert_exporter": "python",
   "pygments_lexer": "ipython2",
   "version": "2.7.12"
  }
 },
 "nbformat": 4,
 "nbformat_minor": 1
}
