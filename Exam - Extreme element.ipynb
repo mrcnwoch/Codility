{
 "cells": [
  {
   "cell_type": "markdown",
   "metadata": {
    "collapsed": false
   },
   "source": [
    "A zero-indexed array A consisting of N integers is given. The average value of array A is defined as:\n",
    "(A[0] + A[1] + … + A[N-1]) / N\n",
    "\n",
    "The deviation of element A[P] (where 0 ≤ P < N) is defined as |A[P] – M|, where M is the average value of array A.\n",
    "\n",
    "Element A[P] is called extreme if its deviation is maximal among all the elements of A.\n",
    "\n",
    "For example, consider the following array A consisting of four elements:\n",
    "\tA[0] = 9\n",
    "\tA[1] = 4\n",
    "    A[2] = -3\n",
    "    A[3] = -10\n",
    "\n",
    "The average value of this array is (9 + 4 + (-3) + (-10)) / 4 = 0. The deviation of element A[2] is |(-3) – 0| = |0 – (-3)| = 3. The deviation of element A[3] is 10. It is an extreme element of array A, since no other element has a deviation greater than 10. There are no other extreme elements in this array.\n",
    "\n",
    "Write a function:\n",
    "    def solution(A):\n",
    "\n",
    "that, given a zero-indexed array A consisting of N integers, returns the index of an extreme element. If more than one extreme element exists, the function may return the index of any of them. If the array is empty (and hence no extreme element exists), the function should return -1. \n",
    "\n",
    "For example, given array A shown above, the function should return 3, since A[3] is the only extreme element.\n",
    "\n",
    "Assume that:\n",
    "•\tN is an integer within the range [0..100,000];\n",
    "•\teach element of array A is an integer within the range [-2,147,483,648.. 2,147,483,647].\n",
    "\n",
    "Complexity:\n",
    "•\texpected worst-case time complexity is O(N);\n",
    "•\texpected worst-case space complexity is O(1), beyond input storage (not counting the storage required for input arguments).\n",
    "\n",
    "Elements of input array can be modified."
   ]
  },
  {
   "cell_type": "code",
   "execution_count": null,
   "metadata": {
    "collapsed": true
   },
   "outputs": [],
   "source": [
    "def solution(A):\n",
    "    if len(A) == 0:\n",
    "        return -1\n",
    "    \n",
    "    avg = sum(A) / float(len(A))\n",
    "    max_diff = -1\n",
    "    max_idx = -1\n",
    "    for i in xrange(len(A)):\n",
    "        diff = abs(A[i] - avg)\n",
    "        if diff > max_diff:\n",
    "            max_diff = diff\n",
    "            max_idx = i\n",
    "        \n",
    "    return max_idx"
   ]
  },
  {
   "cell_type": "code",
   "execution_count": null,
   "metadata": {
    "collapsed": true
   },
   "outputs": [],
   "source": [
    "print solution([1, 3, -1])"
   ]
  }
 ],
 "metadata": {
  "anaconda-cloud": {},
  "kernelspec": {
   "display_name": "Python [conda root]",
   "language": "python",
   "name": "conda-root-py"
  },
  "language_info": {
   "codemirror_mode": {
    "name": "ipython",
    "version": 2
   },
   "file_extension": ".py",
   "mimetype": "text/x-python",
   "name": "python",
   "nbconvert_exporter": "python",
   "pygments_lexer": "ipython2",
   "version": "2.7.12"
  }
 },
 "nbformat": 4,
 "nbformat_minor": 1
}
