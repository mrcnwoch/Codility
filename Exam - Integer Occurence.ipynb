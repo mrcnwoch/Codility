{
 "cells": [
  {
   "cell_type": "markdown",
   "metadata": {
    "collapsed": true
   },
   "source": [
    "To non-negative integers A and B are given. Integer A occurs in integer B at position P if the decimal representation of A is a substring, starting at position P (counting from zero), of the decimal representation of B. Decimal representations are assumed to be big-endian and without leading zeros (the only exception being the number 0, whose decimal representation is \"0\").\n",
    "\n",
    "For example, 53 occurs in 1953786 at position 2. 78 occurs in 195378678 at position 4 and 7. 57 does not occur in 153786.\n",
    "\n",
    "Write a function\n",
    "\t\n",
    "    def solution(A, B):\n",
    "\n",
    "that given two non-negative integers A and B, returns the leftmost position at which A occurs in B. The function should return -1 if A does not occur in B.\n",
    "\n",
    "For example, given A = 53 and B = 1953786, the function should return 2, as explained above. \n",
    "\n",
    "Assume that:\n",
    "\n",
    "•\tA and B are integers within the range [0..999,999,999].\n",
    "\n",
    "In your solution, focus on correctness. The performance of your solution will not be the focus of the assessment.\n"
   ]
  },
  {
   "cell_type": "code",
   "execution_count": 3,
   "metadata": {
    "collapsed": false
   },
   "outputs": [],
   "source": [
    "def solution(A, B):\n",
    "    txt_A = str(A)\n",
    "    txt_B = str(B)\n",
    "    found = txt_B.find(txt_A)\n",
    "    \n",
    "    return found"
   ]
  },
  {
   "cell_type": "code",
   "execution_count": 4,
   "metadata": {
    "collapsed": false
   },
   "outputs": [
    {
     "name": "stdout",
     "output_type": "stream",
     "text": [
      "0\n",
      "0\n"
     ]
    }
   ],
   "source": [
    "print solution(0, 0)"
   ]
  },
  {
   "cell_type": "code",
   "execution_count": null,
   "metadata": {
    "collapsed": true
   },
   "outputs": [],
   "source": []
  }
 ],
 "metadata": {
  "anaconda-cloud": {},
  "kernelspec": {
   "display_name": "Python [conda root]",
   "language": "python",
   "name": "conda-root-py"
  },
  "language_info": {
   "codemirror_mode": {
    "name": "ipython",
    "version": 2
   },
   "file_extension": ".py",
   "mimetype": "text/x-python",
   "name": "python",
   "nbconvert_exporter": "python",
   "pygments_lexer": "ipython2",
   "version": "2.7.12"
  }
 },
 "nbformat": 4,
 "nbformat_minor": 1
}
