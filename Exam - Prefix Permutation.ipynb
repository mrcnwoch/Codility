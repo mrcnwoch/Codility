{
 "cells": [
  {
   "cell_type": "markdown",
   "metadata": {
    "collapsed": false
   },
   "source": [
    "A non-empty zero indexed array A consisting of a permutation of integers from 1 to N is given. \n",
    "\n",
    "A permutation of integers from 1 to K is a sequence containing each element from 1 to K once, and only once. \n",
    "\n",
    "A prefix permutation is an index P such that 0 ≤ P < N and such that the sequence A[0], A[1], ..., A[P] is a permutation of integers from 1 to P + 1.\n",
    "\n",
    "The goal is to calculate the number of prefix permutations in the array.\n",
    "\n",
    "For example, consider array A such that:\n",
    "\tA[0] = 2\n",
    "\tA[1] = 1\n",
    "\tA[2] = 3\n",
    "\tA[3] = 5\n",
    "    A[4] = 4\n",
    "\n",
    "There are exactly three prefix permutations: 1, 2, and 4. This is because the following sequences are permutations of integer from 1 to P + 1:\n",
    "•\tfor P = 1, the sequence A[0], A[1] contains integers 2, 1.\n",
    "•\tfor P = 2, the sequence A[0], A[1], A[2] contains integers 2, 1, 3\n",
    "•\tfor P = 4, the sequence A[0], A[1], A[2], A[3], A[4] contains integers 2, 1, 3, 5, 4.\n",
    "\n",
    "The index 3 is not a prefix permuation because the sequence A[0], A[1], A[2], A[3], which contains integers 2, 1, 3, 5, is not a permutation of integers from 1 to 4. \n",
    "\n",
    "Write a functions:\n",
    "\t\n",
    "    def solution(A):\n",
    "    \n",
    "that, given a non-empty zero-indexed array A consisting of a permutation of integers from 1 to N, returns the number of prefix permutations. \n",
    "\n",
    "For example, given:\n",
    "    A[0] = 2\n",
    "\tA[1] = 1\n",
    "\tA[2] = 3\n",
    "\tA[3] = 5\n",
    "    A[4] = 4\n",
    "\n",
    "The function should return 3, as explained above. \n",
    "\n",
    "Assume that:\n",
    "•\tN is an integer within the range [1..100,000];\n",
    "•\tThe elements of A are all distinct;\n",
    "•\tEach element of array A is an integer within the range 1..N].\n",
    "\n",
    "Complexity:\n",
    "•\tExpected worst-case time complexity is O(N);\n",
    "•\tExpected worst-case space complexity is O(1), beyond input storage (not counting the storage required for input arguments).\n",
    "\n",
    "Elements of input arrays can be modified.\n"
   ]
  },
  {
   "cell_type": "code",
   "execution_count": 1,
   "metadata": {
    "collapsed": false
   },
   "outputs": [],
   "source": [
    "def solution(A):\n",
    "    P = 0\n",
    "    sum_is = 0\n",
    "    sum_shouldbe = 0\n",
    "    \n",
    "    for i in xrange(len(A)):\n",
    "        sum_is += A[i]\n",
    "        sum_shouldbe += i + 1\n",
    "        if sum_is == sum_shouldbe:\n",
    "            P += 1\n",
    "    \n",
    "    return P"
   ]
  },
  {
   "cell_type": "code",
   "execution_count": 2,
   "metadata": {
    "collapsed": false
   },
   "outputs": [
    {
     "name": "stdout",
     "output_type": "stream",
     "text": [
      "3\n",
      "2\n",
      "0\n"
     ]
    }
   ],
   "source": [
    "print solution([2, 1, 3, 5, 4])\n",
    "print solution([2, 1, 4, 5, 3])\n",
    "print solution([4, 1, 3])"
   ]
  },
  {
   "cell_type": "code",
   "execution_count": null,
   "metadata": {
    "collapsed": true
   },
   "outputs": [],
   "source": []
  }
 ],
 "metadata": {
  "anaconda-cloud": {},
  "kernelspec": {
   "display_name": "Python [conda root]",
   "language": "python",
   "name": "conda-root-py"
  },
  "language_info": {
   "codemirror_mode": {
    "name": "ipython",
    "version": 2
   },
   "file_extension": ".py",
   "mimetype": "text/x-python",
   "name": "python",
   "nbconvert_exporter": "python",
   "pygments_lexer": "ipython2",
   "version": "2.7.12"
  }
 },
 "nbformat": 4,
 "nbformat_minor": 1
}
