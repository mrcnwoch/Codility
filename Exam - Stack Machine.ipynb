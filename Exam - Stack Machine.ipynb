{
 "cells": [
  {
   "cell_type": "markdown",
   "metadata": {
    "collapsed": false
   },
   "source": [
    "A stack machine is a simple system that performs arithmetic operations on an input string of numbers and operators. It contains a stack that can store an arbitrary number of 12-bit unsigned integers. Initially the stack is empty. The machine processes a string of characters in the following way:\n",
    "\n",
    "•\tthe characters of the string are processed one by one;\n",
    "\n",
    "•\tif the current character is a digit (‘0’-‘9’), the machine pushes the value of that digit onto its stack;\n",
    "\n",
    "•\tif the current character is ‘+’, the machine pops the two topmost values from its stack, adds them and pushes the result onto the stack;\n",
    "\n",
    "•\tif the current character is ‘*’, the machine pops the two topmost values from its stack, multiplies them and pushes the result onto the stack;\n",
    "\n",
    "•\tafter the machine has processed the whole string it returns the topmost value of its stack as the result;\n",
    "\n",
    "•\tthe machine reports an error if any operation it performs (addition or multiplication) results in an overflow;\n",
    "\n",
    "•\tthe machine reports an error if it tries to pop an element from its stack when the stack is empty, or if the stack is empty after the machine has processed the whole string.\n",
    "\n",
    "For example, given the string “13+62*7+*” the machine will perform the following operations:\n",
    "\n",
    "    Character\tComment\t                Stack\n",
    "                                    [empty]\n",
    "                                    \n",
    "        ‘1’\tPush 1 onto the stack\t1\n",
    "        \n",
    "        ‘3’\tPush 3 onto the stack\t1, 3\n",
    "        \n",
    "        ‘+’\tPerform addition\t4\n",
    "        \n",
    "        ‘6’\tPush 6 onto the stack\t4, 6\n",
    "        \n",
    "        ‘2’\tPush 2 onto the stack\t4, 6, 2\n",
    "        \n",
    "        ‘*’\tPerform multiplication\t4, 12\n",
    "        \n",
    "        ‘7’\tPush 7 onto the stack\t4, 12, 7\n",
    "        \n",
    "        ‘+’\tPerforms addition\t    4, 19\n",
    "        \n",
    "        ‘*’\tPerforms multiplication\t76\n",
    " \n",
    "\n",
    "The machine will return 76 as the result as it is the topmost element of its stack. \n",
    "Write a function:\n",
    "\t\n",
    "    def solution(S):\n",
    "\n",
    "that, given a string S consisting of N characters containing input for the stack machine, returns the result the machine would return if given string. The function should return -1 if the machine would report an error when processing the string. \n",
    "\n",
    "For example, given string S = “13+62*7+*” the function should return 76, as explained in the example above. Given string S=”11++” the function should return -1.\n",
    "\n",
    "Assume that:\n",
    "\n",
    "•\tThe length of S is within the range [0..200,000];\n",
    "\n",
    "•\tString S consists only of the following characters: “0”, “1”, “2”, “3”, “4”, “5”, “6”, “7”, “8”, “9”, and/or “*”.\n",
    "\n",
    "In your solution, focus on correctness. The performance of your solution will not be the focus of the assessment.\n"
   ]
  },
  {
   "cell_type": "code",
   "execution_count": 2,
   "metadata": {
    "collapsed": false
   },
   "outputs": [],
   "source": [
    "def solution(S):\n",
    "    stack = []\n",
    "    \n",
    "    for ch in S:\n",
    "        if ch.isdigit():\n",
    "            stack.append(ch)\n",
    "        elif ch == \"+\":\n",
    "            if len(stack) < 2:\n",
    "                return -1\n",
    "            try:\n",
    "                no1 = int(stack.pop())\n",
    "                no2 = int(stack.pop())\n",
    "                stack.append(no1 + no2)\n",
    "            except:\n",
    "                return -1\n",
    "        elif ch == \"*\":\n",
    "            if len(stack) < 2:\n",
    "                return -1\n",
    "            try:\n",
    "                no1 = int(stack.pop())\n",
    "                no2 = int(stack.pop())\n",
    "                stack.append(no1 * no2)\n",
    "            except:\n",
    "                return -1\n",
    "        else:\n",
    "            return -1\n",
    "    \n",
    "    if len(stack) != 1:\n",
    "        return -1\n",
    "    \n",
    "    return stack[0]"
   ]
  },
  {
   "cell_type": "code",
   "execution_count": 3,
   "metadata": {
    "collapsed": false
   },
   "outputs": [
    {
     "name": "stdout",
     "output_type": "stream",
     "text": [
      "76\n",
      "-1\n",
      "-1\n",
      "-1\n",
      "11\n",
      "0\n"
     ]
    }
   ],
   "source": [
    "print solution (\"13+62*7+*\")\n",
    "print solution(\"11++\")\n",
    "print solution(\"1s++\")\n",
    "print solution(\"\")\n",
    "print solution(\"18*3+\")\n",
    "print solution(\"00+\")"
   ]
  },
  {
   "cell_type": "code",
   "execution_count": null,
   "metadata": {
    "collapsed": true
   },
   "outputs": [],
   "source": []
  }
 ],
 "metadata": {
  "anaconda-cloud": {},
  "kernelspec": {
   "display_name": "Python [conda root]",
   "language": "python",
   "name": "conda-root-py"
  },
  "language_info": {
   "codemirror_mode": {
    "name": "ipython",
    "version": 2
   },
   "file_extension": ".py",
   "mimetype": "text/x-python",
   "name": "python",
   "nbconvert_exporter": "python",
   "pygments_lexer": "ipython2",
   "version": "2.7.12"
  }
 },
 "nbformat": 4,
 "nbformat_minor": 1
}
