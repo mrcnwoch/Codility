{
 "cells": [
  {
   "cell_type": "markdown",
   "metadata": {},
   "source": [
    "\n",
    "\n",
    "A zero-indexed array A consisting of N integers is given. A triplet (P, Q, R) is triangular if 0 ≤ P < Q < R < N and:\n",
    "\n",
    "        A[P] + A[Q] > A[R],\n",
    "        A[Q] + A[R] > A[P],\n",
    "        A[R] + A[P] > A[Q].\n",
    "\n",
    "For example, consider array A such that:\n",
    "  A[0] = 10    A[1] = 2    A[2] = 5\n",
    "  A[3] = 1     A[4] = 8    A[5] = 20\n",
    "\n",
    "Triplet (0, 2, 4) is triangular.\n",
    "\n",
    "Write a function:\n",
    "\n",
    "    def solution(A)\n",
    "\n",
    "that, given a zero-indexed array A consisting of N integers, returns 1 if there exists a triangular triplet for this array and returns 0 otherwise.\n",
    "\n",
    "For example, given array A such that:\n",
    "  A[0] = 10    A[1] = 2    A[2] = 5\n",
    "  A[3] = 1     A[4] = 8    A[5] = 20\n",
    "\n",
    "the function should return 1, as explained above. Given array A such that:\n",
    "  A[0] = 10    A[1] = 50    A[2] = 5\n",
    "  A[3] = 1\n",
    "\n",
    "the function should return 0.\n",
    "\n",
    "Assume that:\n",
    "\n",
    "        N is an integer within the range [0..100,000];\n",
    "        each element of array A is an integer within the range [−2,147,483,648..2,147,483,647].\n",
    "\n",
    "Complexity:\n",
    "\n",
    "        expected worst-case time complexity is O(N*log(N));\n",
    "        expected worst-case space complexity is O(N), beyond input storage (not counting the storage required for input arguments).\n",
    "\n",
    "Elements of input arrays can be modified.\n"
   ]
  },
  {
   "cell_type": "code",
   "execution_count": 1,
   "metadata": {
    "collapsed": true
   },
   "outputs": [],
   "source": [
    "def solution(A):\n",
    "    A.sort()\n",
    "     \n",
    "    for i in xrange(len(A) - 2):\n",
    "        if A[i] + A[i+1] > A[i+2]:\n",
    "            return 1\n",
    "             \n",
    "    return 0"
   ]
  },
  {
   "cell_type": "code",
   "execution_count": 68,
   "metadata": {
    "collapsed": false
   },
   "outputs": [
    {
     "name": "stdout",
     "output_type": "stream",
     "text": [
      "0\n",
      "1\n",
      "1\n",
      "0\n"
     ]
    }
   ],
   "source": [
    "print triangle_brute([1, 1, 3])\n",
    "print triangle_brute([1, 4, 5, 6, 7, 3])\n",
    "print triangle([1, 4, 5, 6, 7, 3])\n",
    "print triangle([1, 1, 3])"
   ]
  },
  {
   "cell_type": "code",
   "execution_count": 67,
   "metadata": {
    "collapsed": false
   },
   "outputs": [],
   "source": []
  },
  {
   "cell_type": "code",
   "execution_count": null,
   "metadata": {
    "collapsed": true
   },
   "outputs": [],
   "source": []
  }
 ],
 "metadata": {
  "anaconda-cloud": {},
  "kernelspec": {
   "display_name": "Python [conda root]",
   "language": "python",
   "name": "conda-root-py"
  },
  "language_info": {
   "codemirror_mode": {
    "name": "ipython",
    "version": 2
   },
   "file_extension": ".py",
   "mimetype": "text/x-python",
   "name": "python",
   "nbconvert_exporter": "python",
   "pygments_lexer": "ipython2",
   "version": "2.7.12"
  }
 },
 "nbformat": 4,
 "nbformat_minor": 1
}
