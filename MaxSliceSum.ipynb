{
 "cells": [
  {
   "cell_type": "markdown",
   "metadata": {},
   "source": [
    "A non-empty array A consisting of N integers is given. A pair of integers (P, Q), such that 0 ≤ P ≤ Q < N, is called a slice of array A. The sum of a slice (P, Q) is the total of A[P] + A[P+1] + ... + A[Q].\n",
    "\n",
    "Write a function:\n",
    "\n",
    "    def solution(A)\n",
    "\n",
    "that, given an array A consisting of N integers, returns the maximum sum of any slice of A.\n",
    "\n",
    "For example, given array A such that:\n",
    "A[0] = 3  A[1] = 2  A[2] = -6\n",
    "A[3] = 4  A[4] = 0\n",
    "\n",
    "the function should return 5 because:\n",
    "\n",
    "        (3, 4) is a slice of A that has sum 4,\n",
    "        (2, 2) is a slice of A that has sum −6,\n",
    "        (0, 1) is a slice of A that has sum 5,\n",
    "        no other slice of A has sum greater than (0, 1).\n",
    "\n",
    "Write an efficient algorithm for the following assumptions:\n",
    "\n",
    "        N is an integer within the range [1..1,000,000];\n",
    "        each element of array A is an integer within the range [−1,000,000..1,000,000];\n",
    "        the result will be an integer within the range [−2,147,483,648..2,147,483,647].\n",
    "\n"
   ]
  },
  {
   "cell_type": "code",
   "execution_count": 29,
   "metadata": {},
   "outputs": [],
   "source": [
    "def solution(A):\n",
    "    if len(A) == 1:\n",
    "        return(A[0])\n",
    "    \n",
    "    all_neg = True\n",
    "    for a in A:\n",
    "        if a > 0:\n",
    "            all_neg = False\n",
    "            \n",
    "    if all_neg:\n",
    "        return max(A)\n",
    "    \n",
    "    max_ending = max_slice = 0\n",
    "    \n",
    "    for a in A:\n",
    "        max_ending = max(0, max_ending + a)\n",
    "        max_slice = max(max_slice, max_ending)\n",
    "    \n",
    "    return max_slice"
   ]
  },
  {
   "cell_type": "code",
   "execution_count": 31,
   "metadata": {},
   "outputs": [
    {
     "data": {
      "text/plain": [
       "0"
      ]
     },
     "execution_count": 31,
     "metadata": {},
     "output_type": "execute_result"
    }
   ],
   "source": [
    "#solution([3, 2, -6, 4, 0])\n",
    "solution([-10, -2, 0])"
   ]
  },
  {
   "cell_type": "code",
   "execution_count": null,
   "metadata": {},
   "outputs": [],
   "source": []
  }
 ],
 "metadata": {
  "kernelspec": {
   "display_name": "Python 3",
   "language": "python",
   "name": "python3"
  },
  "language_info": {
   "codemirror_mode": {
    "name": "ipython",
    "version": 3
   },
   "file_extension": ".py",
   "mimetype": "text/x-python",
   "name": "python",
   "nbconvert_exporter": "python",
   "pygments_lexer": "ipython3",
   "version": "3.6.4"
  }
 },
 "nbformat": 4,
 "nbformat_minor": 2
}
