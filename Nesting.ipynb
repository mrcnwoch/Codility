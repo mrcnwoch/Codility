{
 "cells": [
  {
   "cell_type": "markdown",
   "metadata": {},
   "source": []
  },
  {
   "cell_type": "code",
   "execution_count": 11,
   "metadata": {},
   "outputs": [],
   "source": [
    "def solution(S):\n",
    "    if len(S) == 0:\n",
    "        return 1\n",
    "    \n",
    "    stack = []\n",
    "    for ch in S:\n",
    "        if ch == \"(\":\n",
    "            stack.append(ch)\n",
    "        else:\n",
    "            if len(stack) == 0:\n",
    "                return 0\n",
    "            \n",
    "            last = stack.pop()\n",
    "            \n",
    "            if ch == ')' and last != '(':\n",
    "                return 0\n",
    "    \n",
    "    if len(stack) != 0:\n",
    "        return 0\n",
    "    \n",
    "    return 1"
   ]
  },
  {
   "cell_type": "code",
   "execution_count": 13,
   "metadata": {},
   "outputs": [
    {
     "name": "stdout",
     "output_type": "stream",
     "text": [
      "1\n",
      "0\n",
      "1\n"
     ]
    }
   ],
   "source": [
    "print(solution(\"(()(())())\"))\n",
    "print(solution(\"())\"))\n",
    "print(solution(\"(())\"))"
   ]
  },
  {
   "cell_type": "code",
   "execution_count": null,
   "metadata": {},
   "outputs": [],
   "source": []
  }
 ],
 "metadata": {
  "kernelspec": {
   "display_name": "Python 3 (ipykernel)",
   "language": "python",
   "name": "python3"
  },
  "language_info": {
   "codemirror_mode": {
    "name": "ipython",
    "version": 3
   },
   "file_extension": ".py",
   "mimetype": "text/x-python",
   "name": "python",
   "nbconvert_exporter": "python",
   "pygments_lexer": "ipython3",
   "version": "3.9.7"
  }
 },
 "nbformat": 4,
 "nbformat_minor": 2
}
