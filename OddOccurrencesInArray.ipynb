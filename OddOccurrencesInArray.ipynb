{
 "cells": [
  {
   "cell_type": "markdown",
   "metadata": {},
   "source": []
  },
  {
   "cell_type": "code",
   "execution_count": 32,
   "metadata": {},
   "outputs": [],
   "source": [
    "def solutionB(A):   ##O(n^2)\n",
    "    while len(A) > 0:  \n",
    "        B = A[0]\n",
    "        A.pop(0)\n",
    "\n",
    "        if B in A:\n",
    "            A.pop(A.index(B))\n",
    "        else:\n",
    "            return B\n",
    "   \n",
    "    return B    "
   ]
  },
  {
   "cell_type": "code",
   "execution_count": 9,
   "metadata": {},
   "outputs": [],
   "source": [
    "def solution(A):   ##O(N*log(N)) \n",
    "    A.sort()\n",
    "    i = 0\n",
    "    \n",
    "    while i < len(A) - 1:\n",
    "        if A[i] == A[i + 1]:\n",
    "            i += 2\n",
    "        else:\n",
    "            return A[i]\n",
    "    \n",
    "    return(A[-1])"
   ]
  },
  {
   "cell_type": "code",
   "execution_count": 11,
   "metadata": {},
   "outputs": [
    {
     "data": {
      "text/plain": [
       "7"
      ]
     },
     "execution_count": 11,
     "metadata": {},
     "output_type": "execute_result"
    }
   ],
   "source": [
    "A = [9, 3, 7, 9, 3, 9]\n",
    "\n",
    "solution(A)"
   ]
  },
  {
   "cell_type": "code",
   "execution_count": null,
   "metadata": {},
   "outputs": [],
   "source": []
  }
 ],
 "metadata": {
  "kernelspec": {
   "display_name": "Python 3 (ipykernel)",
   "language": "python",
   "name": "python3"
  },
  "language_info": {
   "codemirror_mode": {
    "name": "ipython",
    "version": 3
   },
   "file_extension": ".py",
   "mimetype": "text/x-python",
   "name": "python",
   "nbconvert_exporter": "python",
   "pygments_lexer": "ipython3",
   "version": "3.9.7"
  }
 },
 "nbformat": 4,
 "nbformat_minor": 2
}
