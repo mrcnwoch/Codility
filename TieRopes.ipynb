{
 "cells": [
  {
   "cell_type": "markdown",
   "metadata": {},
   "source": [
    "\n",
    "\n",
    "There are N ropes numbered from 0 to N − 1, whose lengths are given in a zero-indexed array A, lying on the floor in a line. For each I (0 ≤ I < N), the length of rope I on the line is A[I].\n",
    "\n",
    "We say that two ropes I and I + 1 are adjacent. Two adjacent ropes can be tied together with a knot, and the length of the tied rope is the sum of lengths of both ropes. The resulting new rope can then be tied again.\n",
    "\n",
    "For a given integer K, the goal is to tie the ropes in such a way that the number of ropes whose length is greater than or equal to K is maximal.\n",
    "\n",
    "For example, consider K = 4 and array A such that:\n",
    "    A[0] = 1\n",
    "    A[1] = 2\n",
    "    A[2] = 3\n",
    "    A[3] = 4\n",
    "    A[4] = 1\n",
    "    A[5] = 1\n",
    "    A[6] = 3\n",
    "\n",
    "The ropes are shown in the figure below.\n",
    "\n",
    "We can tie:\n",
    "\n",
    "        rope 1 with rope 2 to produce a rope of length A[1] + A[2] = 5;\n",
    "        rope 4 with rope 5 with rope 6 to produce a rope of length A[4] + A[5] + A[6] = 5.\n",
    "\n",
    "After that, there will be three ropes whose lengths are greater than or equal to K = 4. It is not possible to produce four such ropes.\n",
    "\n",
    "Write a function:\n",
    "\n",
    "    def solution(K, A)\n",
    "\n",
    "that, given an integer K and a non-empty zero-indexed array A of N integers, returns the maximum number of ropes of length greater than or equal to K that can be created.\n",
    "\n",
    "For example, given K = 4 and array A such that:\n",
    "    A[0] = 1\n",
    "    A[1] = 2\n",
    "    A[2] = 3\n",
    "    A[3] = 4\n",
    "    A[4] = 1\n",
    "    A[5] = 1\n",
    "    A[6] = 3\n",
    "\n",
    "the function should return 3, as explained above.\n",
    "\n",
    "Assume that:\n",
    "\n",
    "        N is an integer within the range [1..100,000];\n",
    "        K is an integer within the range [1..1,000,000,000];\n",
    "        each element of array A is an integer within the range [1..1,000,000,000].\n",
    "\n",
    "Complexity:\n",
    "\n",
    "        expected worst-case time complexity is O(N);\n",
    "        expected worst-case space complexity is O(N), beyond input storage (not counting the storage required for input arguments).\n",
    "\n",
    "Elements of input arrays can be modified.\n"
   ]
  },
  {
   "cell_type": "code",
   "execution_count": null,
   "metadata": {
    "collapsed": true
   },
   "outputs": [],
   "source": [
    "def solution(K, A):\n",
    "    cnt = 0\n",
    "    current = 0\n",
    "    for part in A:\n",
    "        current += part\n",
    "        if current >= K:\n",
    "            cnt +=1\n",
    "            current = 0\n",
    " \n",
    "    return cnt"
   ]
  }
 ],
 "metadata": {
  "anaconda-cloud": {},
  "kernelspec": {
   "display_name": "Python [conda root]",
   "language": "python",
   "name": "conda-root-py"
  },
  "language_info": {
   "codemirror_mode": {
    "name": "ipython",
    "version": 2
   },
   "file_extension": ".py",
   "mimetype": "text/x-python",
   "name": "python",
   "nbconvert_exporter": "python",
   "pygments_lexer": "ipython2",
   "version": "2.7.12"
  }
 },
 "nbformat": 4,
 "nbformat_minor": 1
}
